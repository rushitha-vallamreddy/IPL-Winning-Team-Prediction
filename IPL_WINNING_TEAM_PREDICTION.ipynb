{
  "nbformat": 4,
  "nbformat_minor": 0,
  "metadata": {
    "colab": {
      "private_outputs": true,
      "provenance": [],
      "authorship_tag": "ABX9TyOZAwzlMO8200DqK33g8a9e",
      "include_colab_link": true
    },
    "kernelspec": {
      "name": "python3",
      "display_name": "Python 3"
    },
    "language_info": {
      "name": "python"
    }
  },
  "cells": [
    {
      "cell_type": "markdown",
      "metadata": {
        "id": "view-in-github",
        "colab_type": "text"
      },
      "source": [
        "<a href=\"https://colab.research.google.com/github/rushitha-vallamreddy/IPL-Winning-Team-Prediction/blob/main/IPL_WINNING_TEAM_PREDICTION.ipynb\" target=\"_parent\"><img src=\"https://colab.research.google.com/assets/colab-badge.svg\" alt=\"Open In Colab\"/></a>"
      ]
    },
    {
      "cell_type": "code",
      "source": [
        "import numpy as np\n",
        "import pandas as pd"
      ],
      "metadata": {
        "id": "ZblfYEqxMT4p"
      },
      "execution_count": null,
      "outputs": []
    },
    {
      "cell_type": "code",
      "source": [
        "match = pd.read_csv('/content/matches[1].csv')\n",
        "delivery = pd.read_csv('/content/deliveries[1].csv')"
      ],
      "metadata": {
        "id": "9-JPlzfEMVhw"
      },
      "execution_count": null,
      "outputs": []
    },
    {
      "cell_type": "code",
      "source": [
        "match.head()"
      ],
      "metadata": {
        "id": "2veJrlF7Qtn4"
      },
      "execution_count": null,
      "outputs": []
    },
    {
      "cell_type": "code",
      "source": [
        "match.shape"
      ],
      "metadata": {
        "id": "CCa6hUslQtkf"
      },
      "execution_count": null,
      "outputs": []
    },
    {
      "cell_type": "code",
      "source": [
        "delivery.head()"
      ],
      "metadata": {
        "id": "TWOmy2v5QtiW"
      },
      "execution_count": null,
      "outputs": []
    },
    {
      "cell_type": "code",
      "source": [
        "total_score_df = delivery.groupby(['match_id','inning']).sum()['total_runs'].reset_index()"
      ],
      "metadata": {
        "id": "LLsADDNBQteg"
      },
      "execution_count": null,
      "outputs": []
    },
    {
      "cell_type": "code",
      "source": [
        "total_score_df = total_score_df[total_score_df['inning'] == 1]"
      ],
      "metadata": {
        "id": "tLnmMI2YQtc7"
      },
      "execution_count": null,
      "outputs": []
    },
    {
      "cell_type": "code",
      "source": [
        "total_score_df"
      ],
      "metadata": {
        "id": "LCVbWALtQtab"
      },
      "execution_count": null,
      "outputs": []
    },
    {
      "cell_type": "code",
      "source": [
        "match_df = match.merge(total_score_df[['match_id','total_runs']],left_on='id',right_on='match_id')"
      ],
      "metadata": {
        "id": "os305T9dQtYD"
      },
      "execution_count": null,
      "outputs": []
    },
    {
      "cell_type": "code",
      "source": [
        "match_df"
      ],
      "metadata": {
        "id": "oBCHWI-kQtUE"
      },
      "execution_count": null,
      "outputs": []
    },
    {
      "cell_type": "code",
      "source": [
        "match_df['team1'].unique()"
      ],
      "metadata": {
        "id": "sxXrJZ5GQtRw"
      },
      "execution_count": null,
      "outputs": []
    },
    {
      "cell_type": "code",
      "source": [
        "teams = [\n",
        "    'Sunrisers Hyderabad',\n",
        "    'Mumbai Indians',\n",
        "    'Royal Challengers Bangalore',\n",
        "    'Kolkata Knight Riders',\n",
        "    'Kings XI Punjab',\n",
        "    'Chennai Super Kings',\n",
        "    'Rajasthan Royals',\n",
        "    'Delhi Capitals'\n",
        "]"
      ],
      "metadata": {
        "id": "U0IZkhnFQtQB"
      },
      "execution_count": null,
      "outputs": []
    },
    {
      "cell_type": "code",
      "source": [
        "match_df['team1'] = match_df['team1'].str.replace('Delhi Daredevils','Delhi Capitals')\n",
        "match_df['team2'] = match_df['team2'].str.replace('Delhi Daredevils','Delhi Capitals')\n",
        "\n",
        "match_df['team1'] = match_df['team1'].str.replace('Deccan Chargers','Sunrisers Hyderabad')\n",
        "match_df['team2'] = match_df['team2'].str.replace('Deccan Chargers','Sunrisers Hyderabad')"
      ],
      "metadata": {
        "id": "ppo5joLsQtN_"
      },
      "execution_count": null,
      "outputs": []
    },
    {
      "cell_type": "code",
      "source": [
        "match_df = match_df[match_df['team1'].isin(teams)]\n",
        "match_df = match_df[match_df['team2'].isin(teams)]"
      ],
      "metadata": {
        "id": "FysLIMK9QtMD"
      },
      "execution_count": null,
      "outputs": []
    },
    {
      "cell_type": "code",
      "source": [
        "match_df.shape"
      ],
      "metadata": {
        "id": "ctFwccuRQtH9"
      },
      "execution_count": null,
      "outputs": []
    },
    {
      "cell_type": "code",
      "source": [
        "match_df = match_df[match_df['dl_applied'] == 0]"
      ],
      "metadata": {
        "id": "H5P_iwhvRl48"
      },
      "execution_count": null,
      "outputs": []
    },
    {
      "cell_type": "code",
      "source": [
        "match_df = match_df[['match_id','city','winner','total_runs']]"
      ],
      "metadata": {
        "id": "8sxMSnXIRl1a"
      },
      "execution_count": null,
      "outputs": []
    },
    {
      "cell_type": "code",
      "source": [
        "delivery_df = match_df.merge(delivery,on='match_id')"
      ],
      "metadata": {
        "id": "o_Q_m9d4Rlye"
      },
      "execution_count": null,
      "outputs": []
    },
    {
      "cell_type": "code",
      "source": [
        "delivery_df = delivery_df[delivery_df['inning'] == 2]"
      ],
      "metadata": {
        "id": "vHocB0QsRxOQ"
      },
      "execution_count": null,
      "outputs": []
    },
    {
      "cell_type": "code",
      "source": [
        "delivery_df"
      ],
      "metadata": {
        "id": "se-6STG8RxK-"
      },
      "execution_count": null,
      "outputs": []
    },
    {
      "source": [
        "# Convert 'total_runs_y' to a numeric type before applying cumsum\n",
        "delivery_df['total_runs_y'] = pd.to_numeric(delivery_df['total_runs_y'], errors='coerce')\n",
        "\n",
        "# Now apply cumsum\n",
        "delivery_df['current_score'] = delivery_df.groupby('match_id')['total_runs_y'].cumsum()"
      ],
      "cell_type": "code",
      "metadata": {
        "id": "pOJEwvFXSOC1"
      },
      "execution_count": null,
      "outputs": []
    },
    {
      "cell_type": "code",
      "source": [
        "delivery_df['runs_left'] = delivery_df['total_runs_x'] - delivery_df['current_score']"
      ],
      "metadata": {
        "id": "riOP9C-NRxBk"
      },
      "execution_count": null,
      "outputs": []
    },
    {
      "cell_type": "code",
      "source": [
        "delivery_df['balls_left'] = 126 - (delivery_df['over']*6 + delivery_df['ball'])"
      ],
      "metadata": {
        "id": "qhMzlIc8SWq7"
      },
      "execution_count": null,
      "outputs": []
    },
    {
      "cell_type": "code",
      "source": [
        "delivery_df"
      ],
      "metadata": {
        "id": "7jbe5kdjSWng"
      },
      "execution_count": null,
      "outputs": []
    },
    {
      "source": [
        "delivery_df['player_dismissed'] = delivery_df['player_dismissed'].fillna(\"0\")\n",
        "delivery_df['player_dismissed'] = delivery_df['player_dismissed'].apply(lambda x:x if x == \"0\" else \"1\")\n",
        "delivery_df['player_dismissed'] = delivery_df['player_dismissed'].astype('int')  # Ensure 'player_dismissed' is of numeric type\n",
        "wickets = delivery_df.groupby('match_id')['player_dismissed'].cumsum() #Apply cumsum directly on the groupby object.\n",
        "delivery_df['wickets'] = 10 - wickets\n",
        "delivery_df.head()"
      ],
      "cell_type": "code",
      "metadata": {
        "id": "3FR33HsGSmiA"
      },
      "execution_count": null,
      "outputs": []
    },
    {
      "cell_type": "code",
      "source": [
        "delivery_df.head()"
      ],
      "metadata": {
        "id": "R-mDPXCgSrOf"
      },
      "execution_count": null,
      "outputs": []
    },
    {
      "cell_type": "code",
      "source": [
        "# crr = runs/overs\n",
        "delivery_df['crr'] = (delivery_df['current_score']*6)/(120 - delivery_df['balls_left'])"
      ],
      "metadata": {
        "id": "1hwVXliOSrK8"
      },
      "execution_count": null,
      "outputs": []
    },
    {
      "cell_type": "code",
      "source": [
        "delivery_df['rrr'] = (delivery_df['runs_left']*6)/delivery_df['balls_left']"
      ],
      "metadata": {
        "id": "ps5rkWcvSrIm"
      },
      "execution_count": null,
      "outputs": []
    },
    {
      "cell_type": "code",
      "source": [
        "def result(row):\n",
        "    return 1 if row['batting_team'] == row['winner'] else 0"
      ],
      "metadata": {
        "id": "Fo0Oyy4GSrGx"
      },
      "execution_count": null,
      "outputs": []
    },
    {
      "cell_type": "code",
      "source": [
        "delivery_df['result'] = delivery_df.apply(result,axis=1)"
      ],
      "metadata": {
        "id": "GTOP0oJ7S9lA"
      },
      "execution_count": null,
      "outputs": []
    },
    {
      "cell_type": "code",
      "source": [
        "final_df = delivery_df[['batting_team','bowling_team','city','runs_left','balls_left','wickets','total_runs_x','crr','rrr','result']]"
      ],
      "metadata": {
        "id": "vW_pUaknS9hZ"
      },
      "execution_count": null,
      "outputs": []
    },
    {
      "cell_type": "code",
      "source": [
        "final_df = final_df.sample(final_df.shape[0])"
      ],
      "metadata": {
        "id": "Reb8OCXTS9fL"
      },
      "execution_count": null,
      "outputs": []
    },
    {
      "cell_type": "code",
      "source": [
        "final_df.sample()"
      ],
      "metadata": {
        "id": "tbADHOXMS9cp"
      },
      "execution_count": null,
      "outputs": []
    },
    {
      "cell_type": "code",
      "source": [
        "final_df.dropna(inplace=True)"
      ],
      "metadata": {
        "id": "m3J1gxIeS9a1"
      },
      "execution_count": null,
      "outputs": []
    },
    {
      "cell_type": "code",
      "source": [
        "final_df = final_df[final_df['balls_left'] != 0]"
      ],
      "metadata": {
        "id": "jPwgi2HbS9T7"
      },
      "execution_count": null,
      "outputs": []
    },
    {
      "cell_type": "code",
      "source": [
        "X = final_df.iloc[:,:-1]\n",
        "y = final_df.iloc[:,-1]\n",
        "from sklearn.model_selection import train_test_split\n",
        "X_train,X_test,y_train,y_test = train_test_split(X,y,test_size=0.2,random_state=1)"
      ],
      "metadata": {
        "id": "q7xSHB_6S9NU"
      },
      "execution_count": null,
      "outputs": []
    },
    {
      "cell_type": "code",
      "source": [
        "X_train"
      ],
      "metadata": {
        "id": "f6f16tiSS9JN"
      },
      "execution_count": null,
      "outputs": []
    },
    {
      "source": [
        "from sklearn.compose import ColumnTransformer\n",
        "from sklearn.preprocessing import OneHotEncoder\n",
        "\n",
        "# Replace 'sparse' with 'sparse_output' in the OneHotEncoder constructor\n",
        "trf = ColumnTransformer([\n",
        "    ('trf',OneHotEncoder(sparse_output=False,drop='first'),['batting_team','bowling_team','city'])\n",
        "]\n",
        ",remainder='passthrough')"
      ],
      "cell_type": "code",
      "metadata": {
        "id": "jqdXhsCtTicM"
      },
      "execution_count": null,
      "outputs": []
    },
    {
      "cell_type": "code",
      "source": [
        "from sklearn.linear_model import LogisticRegression\n",
        "from sklearn.ensemble import RandomForestClassifier\n",
        "from sklearn.pipeline import Pipeline"
      ],
      "metadata": {
        "id": "Qun_opbwS9C7"
      },
      "execution_count": null,
      "outputs": []
    },
    {
      "cell_type": "code",
      "source": [
        "pipe = Pipeline(steps=[\n",
        "    ('step1',trf),\n",
        "    ('step2',LogisticRegression(solver='liblinear'))\n",
        "])"
      ],
      "metadata": {
        "id": "yYopz6b6TuYi"
      },
      "execution_count": null,
      "outputs": []
    },
    {
      "cell_type": "code",
      "source": [
        "pipe.fit(X_train,y_train)"
      ],
      "metadata": {
        "id": "yQu4-x0nTuVH"
      },
      "execution_count": null,
      "outputs": []
    },
    {
      "cell_type": "code",
      "source": [
        "y_pred = pipe.predict(X_test)"
      ],
      "metadata": {
        "id": "nWxztJYaTuS0"
      },
      "execution_count": null,
      "outputs": []
    },
    {
      "cell_type": "code",
      "source": [
        "from sklearn.metrics import accuracy_score\n",
        "accuracy_score(y_test,y_pred)"
      ],
      "metadata": {
        "id": "jf6F9F6pTuRA"
      },
      "execution_count": null,
      "outputs": []
    },
    {
      "cell_type": "code",
      "source": [
        "pipe.predict_proba(X_test)[10]"
      ],
      "metadata": {
        "id": "SGEvpk6DTuPS"
      },
      "execution_count": null,
      "outputs": []
    },
    {
      "cell_type": "code",
      "source": [
        "def match_summary(row):\n",
        "    print(\"Batting Team-\" + row['batting_team'] + \" | Bowling Team-\" + row['bowling_team'] + \" | Target- \" + str(row['total_runs_x']))\n"
      ],
      "metadata": {
        "id": "orPvA2xgTuMx"
      },
      "execution_count": null,
      "outputs": []
    },
    {
      "cell_type": "code",
      "source": [
        "def match_progression(x_df,match_id,pipe):\n",
        "    match = x_df[x_df['match_id'] == match_id]\n",
        "    match = match[(match['ball'] == 6)]\n",
        "    temp_df = match[['batting_team','bowling_team','city','runs_left','balls_left','wickets','total_runs_x','crr','rrr']].dropna()\n",
        "    temp_df = temp_df[temp_df['balls_left'] != 0]\n",
        "    result = pipe.predict_proba(temp_df)\n",
        "    temp_df['lose'] = np.round(result.T[0]*100,1)\n",
        "    temp_df['win'] = np.round(result.T[1]*100,1)\n",
        "    temp_df['end_of_over'] = range(1,temp_df.shape[0]+1)\n",
        "\n",
        "    target = temp_df['total_runs_x'].values[0]\n",
        "    runs = list(temp_df['runs_left'].values)\n",
        "    new_runs = runs[:]\n",
        "    runs.insert(0,target)\n",
        "    temp_df['runs_after_over'] = np.array(runs)[:-1] - np.array(new_runs)\n",
        "    wickets = list(temp_df['wickets'].values)\n",
        "    new_wickets = wickets[:]\n",
        "    new_wickets.insert(0,10)\n",
        "    wickets.append(0)\n",
        "    w = np.array(wickets)\n",
        "    nw = np.array(new_wickets)\n",
        "    temp_df['wickets_in_over'] = (nw - w)[0:temp_df.shape[0]]\n",
        "\n",
        "    print(\"Target-\",target)\n",
        "    temp_df = temp_df[['end_of_over','runs_after_over','wickets_in_over','lose','win']]\n",
        "    return temp_df,target"
      ],
      "metadata": {
        "id": "4xwblpKJTuK0"
      },
      "execution_count": null,
      "outputs": []
    },
    {
      "cell_type": "code",
      "source": [
        "temp_df,target = match_progression(delivery_df,74,pipe)\n",
        "temp_df"
      ],
      "metadata": {
        "id": "dm0tIgFmTuIr"
      },
      "execution_count": null,
      "outputs": []
    },
    {
      "cell_type": "code",
      "source": [
        "import matplotlib.pyplot as plt\n",
        "plt.figure(figsize=(18,8))\n",
        "plt.plot(temp_df['end_of_over'],temp_df['wickets_in_over'],color='yellow',linewidth=3)\n",
        "plt.plot(temp_df['end_of_over'],temp_df['win'],color='#00a65a',linewidth=4)\n",
        "plt.plot(temp_df['end_of_over'],temp_df['lose'],color='red',linewidth=4)\n",
        "plt.bar(temp_df['end_of_over'],temp_df['runs_after_over'])\n",
        "plt.title('Target-' + str(target))"
      ],
      "metadata": {
        "id": "eMC8GgkZUQOC"
      },
      "execution_count": null,
      "outputs": []
    },
    {
      "cell_type": "code",
      "source": [
        "teams"
      ],
      "metadata": {
        "id": "jRtiqFCbUQKo"
      },
      "execution_count": null,
      "outputs": []
    },
    {
      "cell_type": "code",
      "source": [
        "delivery_df['city'].unique()"
      ],
      "metadata": {
        "id": "jMzimZzRUQII"
      },
      "execution_count": null,
      "outputs": []
    },
    {
      "cell_type": "code",
      "source": [
        "import pickle\n",
        "pickle.dump(pipe,open('pipe.pkl','wb'))"
      ],
      "metadata": {
        "id": "qtJW7jBDUQFw"
      },
      "execution_count": null,
      "outputs": []
    }
  ]
}